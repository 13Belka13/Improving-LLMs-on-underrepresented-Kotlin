{
 "cells": [
  {
   "metadata": {},
   "cell_type": "code",
   "source": [
    "from src.model.model_trainer import ModelTrainer\n",
    "from transformers import AutoModelForCausalLM\n",
    "from src.utils.data_utils import prepare_tokenizer, load_dataset, split_dataset, tokenize_dataset, SplitEnum\n",
    "from src.utils.env_loader import MODEL_NAME, KOTLIN_DATASET_PATH, MODEL_OUTPUT_PATH"
   ],
   "id": "7189bb19f802cd38",
   "outputs": [],
   "execution_count": null
  },
  {
   "metadata": {},
   "cell_type": "code",
   "source": [
    "model_name = MODEL_NAME\n",
    "kotlin_dataset_path = KOTLIN_DATASET_PATH\n",
    "output_dir = MODEL_OUTPUT_PATH"
   ],
   "id": "a8ba4ec1fd877a57",
   "outputs": [],
   "execution_count": null
  },
  {
   "metadata": {},
   "cell_type": "code",
   "source": "model = AutoModelForCausalLM.from_pretrained(model_name)",
   "id": "29f19d89184d7cc3",
   "outputs": [],
   "execution_count": null
  },
  {
   "metadata": {},
   "cell_type": "code",
   "source": [
    "kotlin_dataset = load_dataset(kotlin_dataset_path)\n",
    "kotlin_train_data = split_dataset(kotlin_dataset, SplitEnum.TRAIN)\n",
    "tokenizer = prepare_tokenizer(model_name)\n",
    "tokenized_kotlin_train_dataset = tokenize_dataset(tokenizer, kotlin_train_data)"
   ],
   "id": "b45642203be809e9",
   "outputs": [],
   "execution_count": null
  },
  {
   "metadata": {},
   "cell_type": "code",
   "source": [
    "model_trainer = ModelTrainer(model, tokenizer, tokenized_kotlin_train_dataset, output_dir)\n",
    "model_trainer.setup_lora()\n",
    "model_trainer.train()\n",
    "model_trainer.save_model()"
   ],
   "id": "2ba9ad2dd2593720",
   "outputs": [],
   "execution_count": null
  }
 ],
 "metadata": {
  "kernelspec": {
   "display_name": "Python 3",
   "language": "python",
   "name": "python3"
  },
  "language_info": {
   "codemirror_mode": {
    "name": "ipython",
    "version": 3
   },
   "file_extension": ".py",
   "mimetype": "text/x-python",
   "name": "python",
   "nbconvert_exporter": "python",
   "pygments_lexer": "ipython3",
   "version": "3.11.9"
  }
 },
 "nbformat": 4,
 "nbformat_minor": 5
}
