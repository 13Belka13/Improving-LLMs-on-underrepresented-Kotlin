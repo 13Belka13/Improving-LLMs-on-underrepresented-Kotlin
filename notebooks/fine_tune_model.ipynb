{
 "cells": [
  {
   "metadata": {},
   "cell_type": "code",
   "outputs": [],
   "execution_count": null,
   "source": [
    "from src.model.model_trainer import ModelTrainer\n",
    "from transformers import AutoModelForCausalLM\n",
    "from src.utils.notebook_utils import prepare_tokenizer, load_dataset, split_dataset, tokenize_dataset, SplitEnum\n",
    "from src.utils.env_loader import MODEL_NAME, KOTLIN_DATASET_PATH, MODEL_OUTPUT_PATH"
   ],
   "id": "7189bb19f802cd38"
  },
  {
   "metadata": {},
   "cell_type": "code",
   "outputs": [
    {
     "ename": "NameError",
     "evalue": "name 'MODEL_NAME' is not defined",
     "output_type": "error",
     "traceback": [
      "\u001B[1;31m---------------------------------------------------------------------------\u001B[0m",
      "\u001B[1;31mNameError\u001B[0m                                 Traceback (most recent call last)",
      "Cell \u001B[1;32mIn[1], line 1\u001B[0m\n\u001B[1;32m----> 1\u001B[0m model_name \u001B[38;5;241m=\u001B[39m \u001B[43mMODEL_NAME\u001B[49m\n\u001B[0;32m      2\u001B[0m kotlin_dataset_path \u001B[38;5;241m=\u001B[39m KOTLIN_DATASET_PATH\n\u001B[0;32m      3\u001B[0m output_dir \u001B[38;5;241m=\u001B[39m MODEL_OUTPUT_PATH\n",
      "\u001B[1;31mNameError\u001B[0m: name 'MODEL_NAME' is not defined"
     ]
    }
   ],
   "execution_count": 1,
   "source": [
    "model_name = MODEL_NAME\n",
    "kotlin_dataset_path = KOTLIN_DATASET_PATH\n",
    "output_dir = MODEL_OUTPUT_PATH"
   ],
   "id": "a8ba4ec1fd877a57"
  },
  {
   "metadata": {},
   "cell_type": "code",
   "outputs": [],
   "execution_count": null,
   "source": "model = AutoModelForCausalLM.from_pretrained(model_name)",
   "id": "29f19d89184d7cc3"
  },
  {
   "metadata": {},
   "cell_type": "code",
   "outputs": [],
   "execution_count": null,
   "source": [
    "kotlin_dataset = load_dataset(kotlin_dataset_path)\n",
    "kotlin_train_data = split_dataset(kotlin_dataset, SplitEnum.TRAIN)\n",
    "tokenizer = prepare_tokenizer(model_name)\n",
    "tokenized_kotlin_train_dataset = tokenize_dataset(tokenizer, kotlin_train_data)"
   ],
   "id": "b45642203be809e9"
  },
  {
   "metadata": {},
   "cell_type": "code",
   "outputs": [],
   "execution_count": null,
   "source": [
    "model_trainer = ModelTrainer(model, tokenizer, tokenized_kotlin_train_dataset, output_dir)\n",
    "model_trainer.setup_lora()\n",
    "model_trainer.train()\n",
    "model_trainer.save_model()"
   ],
   "id": "2ba9ad2dd2593720"
  }
 ],
 "metadata": {
  "kernelspec": {
   "display_name": "Python 3",
   "language": "python",
   "name": "python3"
  },
  "language_info": {
   "codemirror_mode": {
    "name": "ipython",
    "version": 3
   },
   "file_extension": ".py",
   "mimetype": "text/x-python",
   "name": "python",
   "nbconvert_exporter": "python",
   "pygments_lexer": "ipython3",
   "version": "3.11.9"
  }
 },
 "nbformat": 4,
 "nbformat_minor": 5
}
