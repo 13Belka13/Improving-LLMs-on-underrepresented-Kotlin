{
 "cells": [
  {
   "metadata": {},
   "cell_type": "code",
   "source": [
    "from src.utils.logger import Logger\n",
    "from src.utils.data_utils import load_model, prepare_tokenizer, load_dataset, split_dataset, tokenize_dataset, \\\n",
    "    evaluate_perplexity, evaluate_accuracy, SplitEnum\n",
    "from src.utils.env_loader import KOTLIN_DATASET_PATH, MODEL_NAME, PYTHON_DATASET_PATH, MODEL_PATH\n",
    "from transformers import AutoModelForCausalLM"
   ],
   "id": "609176d651cd040a",
   "outputs": [],
   "execution_count": null
  },
  {
   "metadata": {},
   "cell_type": "code",
   "source": "logger = Logger().get_logger()",
   "id": "f7ac819944cab0c9",
   "outputs": [],
   "execution_count": null
  },
  {
   "metadata": {},
   "cell_type": "code",
   "source": [
    "model_name = MODEL_NAME\n",
    "kotlin_dataset_path = KOTLIN_DATASET_PATH\n",
    "python_dataset_path = PYTHON_DATASET_PATH\n",
    "model_path = MODEL_PATH"
   ],
   "id": "4c7325629f53f8aa",
   "outputs": [],
   "execution_count": null
  },
  {
   "metadata": {},
   "cell_type": "code",
   "source": [
    "model = load_model(model_name, model_path)\n",
    "# model = AutoModelForCausalLM.from_pretrained(model_name)\n",
    "tokenizer = prepare_tokenizer(model_name)"
   ],
   "id": "2d217b7b58bb220c",
   "outputs": [],
   "execution_count": null
  },
  {
   "metadata": {},
   "cell_type": "code",
   "source": [
    "logger.info(\"Starting evaluation on Kotlin dataset\")\n",
    "kotlin_dataset = load_dataset(kotlin_dataset_path)\n",
    "kotlin_test_data = split_dataset(kotlin_dataset, SplitEnum.TEST)\n",
    "tokenized_kotlin_test_dataset = tokenize_dataset(tokenizer, kotlin_test_data)\n",
    "kotlin_perplexity = evaluate_perplexity(model, tokenizer, tokenized_kotlin_test_dataset)\n",
    "kotlin_accuracy = evaluate_accuracy(model, tokenizer, tokenized_kotlin_test_dataset)"
   ],
   "id": "8f94079b7849450f",
   "outputs": [],
   "execution_count": null
  },
  {
   "metadata": {},
   "cell_type": "code",
   "source": [
    "logger.info(\"Starting evaluation on Python dataset\")\n",
    "python_dataset = load_dataset(python_dataset_path)\n",
    "python_test_data = split_dataset(python_dataset, SplitEnum.TEST)\n",
    "tokenized_python_test_dataset = tokenize_dataset(tokenizer, python_test_data)\n",
    "python_perplexity = evaluate_perplexity(model, tokenizer, tokenized_python_test_dataset)\n",
    "python_accuracy = evaluate_accuracy(model, tokenizer, tokenized_python_test_dataset)"
   ],
   "id": "63fd832a1deef2c5",
   "outputs": [],
   "execution_count": null
  },
  {
   "metadata": {},
   "cell_type": "code",
   "source": [
    "logger.info(\"Evaluation complete. Results:\")\n",
    "logger.info(f\"Kotlin Accuracy: {kotlin_accuracy:.4f}\")\n",
    "logger.info(f\"Kotlin Perplexity: {kotlin_perplexity:.2f}\")\n",
    "logger.info(f\"Python Accuracy: {python_accuracy:.4f}\")\n",
    "logger.info(f\"Python Perplexity: {python_perplexity:.2f}\")"
   ],
   "id": "initial_id",
   "outputs": [],
   "execution_count": null
  }
 ],
 "metadata": {
  "kernelspec": {
   "display_name": "Python 3",
   "language": "python",
   "name": "python3"
  },
  "language_info": {
   "codemirror_mode": {
    "name": "ipython",
    "version": 2
   },
   "file_extension": ".py",
   "mimetype": "text/x-python",
   "name": "python",
   "nbconvert_exporter": "python",
   "pygments_lexer": "ipython2",
   "version": "2.7.6"
  }
 },
 "nbformat": 4,
 "nbformat_minor": 5
}
