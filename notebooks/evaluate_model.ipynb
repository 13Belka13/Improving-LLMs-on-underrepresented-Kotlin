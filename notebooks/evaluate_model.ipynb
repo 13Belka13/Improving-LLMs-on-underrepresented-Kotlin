{
 "cells": [
  {
   "metadata": {},
   "cell_type": "code",
   "outputs": [],
   "execution_count": null,
   "source": [
    "from src.utils.logger import Logger\n",
    "from src.utils.notebook_utils import load_model, prepare_tokenizer, load_dataset, split_dataset, tokenize_dataset, \\\n",
    "    evaluate_perplexity, evaluate_accuracy, SplitEnum\n",
    "from src.utils.env_loader import KOTLIN_DATASET_PATH, MODEL_NAME, PYTHON_DATASET_PATH, MODEL_PATH"
   ],
   "id": "609176d651cd040a"
  },
  {
   "metadata": {
    "ExecuteTime": {
     "end_time": "2024-05-04T22:17:27.176337Z",
     "start_time": "2024-05-04T22:17:26.995706Z"
    }
   },
   "cell_type": "code",
   "source": "logger = Logger().get_logger()",
   "id": "f7ac819944cab0c9",
   "outputs": [
    {
     "ename": "NameError",
     "evalue": "name 'Logger' is not defined",
     "output_type": "error",
     "traceback": [
      "\u001B[1;31m---------------------------------------------------------------------------\u001B[0m",
      "\u001B[1;31mNameError\u001B[0m                                 Traceback (most recent call last)",
      "Cell \u001B[1;32mIn[1], line 1\u001B[0m\n\u001B[1;32m----> 1\u001B[0m logger \u001B[38;5;241m=\u001B[39m \u001B[43mLogger\u001B[49m()\u001B[38;5;241m.\u001B[39mget_logger()\n",
      "\u001B[1;31mNameError\u001B[0m: name 'Logger' is not defined"
     ]
    }
   ],
   "execution_count": 1
  },
  {
   "metadata": {},
   "cell_type": "code",
   "outputs": [],
   "execution_count": null,
   "source": [
    "model_name = MODEL_NAME\n",
    "kotlin_dataset_path = KOTLIN_DATASET_PATH\n",
    "python_dataset_path = PYTHON_DATASET_PATH\n",
    "model_path = MODEL_PATH"
   ],
   "id": "4c7325629f53f8aa"
  },
  {
   "metadata": {},
   "cell_type": "code",
   "outputs": [],
   "execution_count": null,
   "source": [
    "model = load_model(model_name, model_path)\n",
    "tokenizer = prepare_tokenizer(model_name)"
   ],
   "id": "2d217b7b58bb220c"
  },
  {
   "metadata": {},
   "cell_type": "code",
   "outputs": [],
   "execution_count": null,
   "source": [
    "logger.info(\"Starting evaluation on Kotlin dataset\")\n",
    "kotlin_dataset = load_dataset(kotlin_dataset_path)\n",
    "kotlin_test_data = split_dataset(kotlin_dataset, SplitEnum.TEST)\n",
    "tokenized_kotlin_test_dataset = tokenize_dataset(tokenizer, kotlin_test_data)\n",
    "kotlin_perplexity = evaluate_perplexity(model, tokenizer, tokenized_kotlin_test_dataset)\n",
    "kotlin_accuracy = evaluate_accuracy(model, tokenizer, tokenized_kotlin_test_dataset)"
   ],
   "id": "8f94079b7849450f"
  },
  {
   "metadata": {},
   "cell_type": "code",
   "outputs": [],
   "execution_count": null,
   "source": [
    "logger.info(\"Starting evaluation on Python dataset\")\n",
    "python_dataset = load_dataset(python_dataset_path)\n",
    "python_test_data = split_dataset(python_dataset)\n",
    "tokenized_python_test_dataset = tokenize_dataset(tokenizer, python_test_data)\n",
    "python_perplexity = evaluate_perplexity(model, tokenizer, tokenized_python_test_dataset)\n",
    "python_accuracy = evaluate_accuracy(model, tokenizer, tokenized_python_test_dataset)"
   ],
   "id": "63fd832a1deef2c5"
  },
  {
   "metadata": {},
   "cell_type": "code",
   "outputs": [],
   "execution_count": null,
   "source": [
    "logger.info(\"Evaluation complete. Results:\")\n",
    "logger.info(f\"Kotlin Accuracy: {kotlin_accuracy:.4f}\")\n",
    "logger.info(f\"Kotlin Perplexity: {kotlin_perplexity:.2f}\")\n",
    "logger.info(f\"Python Accuracy: {python_accuracy:.4f}\")\n",
    "logger.info(f\"Python Perplexity: {python_perplexity:.2f}\")"
   ],
   "id": "initial_id"
  }
 ],
 "metadata": {
  "kernelspec": {
   "display_name": "Python 3",
   "language": "python",
   "name": "python3"
  },
  "language_info": {
   "codemirror_mode": {
    "name": "ipython",
    "version": 2
   },
   "file_extension": ".py",
   "mimetype": "text/x-python",
   "name": "python",
   "nbconvert_exporter": "python",
   "pygments_lexer": "ipython2",
   "version": "2.7.6"
  }
 },
 "nbformat": 4,
 "nbformat_minor": 5
}
